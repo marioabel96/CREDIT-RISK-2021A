{
 "cells": [
  {
   "cell_type": "code",
   "execution_count": 1,
   "id": "animal-digit",
   "metadata": {},
   "outputs": [],
   "source": [
    "import pandas as pd\n",
    "import numpy as np\n",
    "\n",
    "from fintools.rates import irr"
   ]
  },
  {
   "cell_type": "code",
   "execution_count": 2,
   "id": "amateur-electricity",
   "metadata": {},
   "outputs": [
    {
     "name": "stdout",
     "output_type": "stream",
     "text": [
      "Interest rate: 15.9983%\n"
     ]
    }
   ],
   "source": [
    "cashflows_a = [-9364, 10000, 1000]\n",
    "\n",
    "print(\"Interest rate: {:,.4%}\".format(irr(cashflows_a)))"
   ]
  },
  {
   "cell_type": "code",
   "execution_count": null,
   "id": "healthy-probe",
   "metadata": {},
   "outputs": [],
   "source": []
  },
  {
   "cell_type": "code",
   "execution_count": 8,
   "id": "moderate-block",
   "metadata": {},
   "outputs": [
    {
     "data": {
      "text/plain": [
       "0.12321245982864881"
      ]
     },
     "execution_count": 8,
     "metadata": {},
     "output_type": "execute_result"
    }
   ],
   "source": [
    "# 1\n",
    "\n",
    "c0 = 10000\n",
    "c1 = 5000\n",
    "c2 = 7000\n",
    "\n",
    "rate = 2 * c2 / (-c1 + np.sqrt(c1**2 + 4 * c2 * c0)) - 1\n",
    "rate"
   ]
  },
  {
   "cell_type": "code",
   "execution_count": 10,
   "id": "sticky-south",
   "metadata": {},
   "outputs": [
    {
     "data": {
      "text/plain": [
       "0"
      ]
     },
     "execution_count": 10,
     "metadata": {},
     "output_type": "execute_result"
    }
   ],
   "source": [
    "round(-c0 + c1 * (1 + rate)**(-1) + c2 * (1 + rate)**(-2))"
   ]
  },
  {
   "cell_type": "code",
   "execution_count": 11,
   "id": "harmful-stocks",
   "metadata": {},
   "outputs": [
    {
     "data": {
      "text/plain": [
       "0.12321245982864903"
      ]
     },
     "execution_count": 11,
     "metadata": {},
     "output_type": "execute_result"
    }
   ],
   "source": [
    "irr([-c0, c1, c2])"
   ]
  },
  {
   "cell_type": "code",
   "execution_count": 17,
   "id": "paperback-frank",
   "metadata": {},
   "outputs": [],
   "source": [
    "# 2\n",
    "c0 = 5237\n",
    "c6 = 5470\n",
    "n = 6\n",
    "\n",
    "\n",
    "rate = (c6/c0)**(1/n) - 1\n",
    "100 * rate * 12\n",
    "\n",
    "yearly_rate = rate * 12"
   ]
  },
  {
   "cell_type": "code",
   "execution_count": 16,
   "id": "intellectual-payment",
   "metadata": {},
   "outputs": [
    {
     "data": {
      "text/plain": [
       "0"
      ]
     },
     "execution_count": 16,
     "metadata": {},
     "output_type": "execute_result"
    }
   ],
   "source": [
    "round(c0 - c6 * (1 + rate) ** (-n))"
   ]
  },
  {
   "cell_type": "code",
   "execution_count": 18,
   "id": "unnecessary-christian",
   "metadata": {},
   "outputs": [
    {
     "data": {
      "text/plain": [
       "5236.999999999999"
      ]
     },
     "execution_count": 18,
     "metadata": {},
     "output_type": "execute_result"
    }
   ],
   "source": [
    "c6 * (1 + yearly_rate / 12) ** (-n)"
   ]
  },
  {
   "cell_type": "code",
   "execution_count": 20,
   "id": "understanding-demand",
   "metadata": {},
   "outputs": [
    {
     "data": {
      "text/plain": [
       "5064.814814814814"
      ]
     },
     "execution_count": 20,
     "metadata": {},
     "output_type": "execute_result"
    }
   ],
   "source": [
    "c6 * (1 + 0.08) ** (-1)"
   ]
  },
  {
   "cell_type": "code",
   "execution_count": 21,
   "id": "general-comfort",
   "metadata": {},
   "outputs": [
    {
     "data": {
      "text/plain": [
       "0.007281347887377221"
      ]
     },
     "execution_count": 21,
     "metadata": {},
     "output_type": "execute_result"
    }
   ],
   "source": [
    "irr([-5237, 0, 0, 0, 0, 0, 5470])"
   ]
  },
  {
   "cell_type": "code",
   "execution_count": 22,
   "id": "brilliant-passage",
   "metadata": {},
   "outputs": [
    {
     "data": {
      "text/plain": [
       "0.007281347887377665"
      ]
     },
     "execution_count": 22,
     "metadata": {},
     "output_type": "execute_result"
    }
   ],
   "source": [
    "rate"
   ]
  },
  {
   "cell_type": "code",
   "execution_count": 24,
   "id": "engaged-demonstration",
   "metadata": {},
   "outputs": [
    {
     "data": {
      "text/plain": [
       "21998.773999999998"
      ]
     },
     "execution_count": 24,
     "metadata": {},
     "output_type": "execute_result"
    }
   ],
   "source": [
    "# 3\n",
    "\n",
    "c0 = -55000\n",
    "c1 = 37621\n",
    "\n",
    "c2 = -(c0 + c1 * (1.061) ** (-1)) /  (1.061) ** (-2)\n",
    "c2"
   ]
  },
  {
   "cell_type": "code",
   "execution_count": 25,
   "id": "altered-person",
   "metadata": {},
   "outputs": [
    {
     "data": {
      "text/plain": [
       "0.0"
      ]
     },
     "execution_count": 25,
     "metadata": {},
     "output_type": "execute_result"
    }
   ],
   "source": [
    "c0 + c1 * (1.061) ** (-1) + c2 * (1.061) ** (-2)"
   ]
  },
  {
   "cell_type": "code",
   "execution_count": 27,
   "id": "following-perth",
   "metadata": {},
   "outputs": [
    {
     "data": {
      "text/plain": [
       "6.099999999999994"
      ]
     },
     "execution_count": 27,
     "metadata": {},
     "output_type": "execute_result"
    }
   ],
   "source": [
    "100* irr([c0, c1, c2])"
   ]
  },
  {
   "cell_type": "code",
   "execution_count": 33,
   "id": "institutional-canon",
   "metadata": {},
   "outputs": [
    {
     "data": {
      "text/plain": [
       "12464.249196572982"
      ]
     },
     "execution_count": 33,
     "metadata": {},
     "output_type": "execute_result"
    }
   ],
   "source": [
    "# 4\n",
    "\n",
    "c0 = 10000\n",
    "c1 = 5000\n",
    "c2 = 7000\n",
    "\n",
    "present_value = np.sqrt(c1**2 + 4 * c2 * c0) - c1\n",
    "present_value"
   ]
  },
  {
   "cell_type": "code",
   "execution_count": 35,
   "id": "functioning-asthma",
   "metadata": {},
   "outputs": [
    {
     "data": {
      "text/plain": [
       "12464.24919657298"
      ]
     },
     "execution_count": 35,
     "metadata": {},
     "output_type": "execute_result"
    }
   ],
   "source": [
    "future_value = 2 * c2 \n",
    "\n",
    "future_value * (1 + irr([-c0, c1, c2])) ** (-1)"
   ]
  },
  {
   "cell_type": "code",
   "execution_count": 36,
   "id": "laughing-vaccine",
   "metadata": {},
   "outputs": [
    {
     "data": {
      "text/plain": [
       "0.12321245982864881"
      ]
     },
     "execution_count": 36,
     "metadata": {},
     "output_type": "execute_result"
    }
   ],
   "source": [
    "irr([-present_value, future_value])"
   ]
  },
  {
   "cell_type": "code",
   "execution_count": 37,
   "id": "vocational-casino",
   "metadata": {},
   "outputs": [
    {
     "data": {
      "text/plain": [
       "0.12321245982864903"
      ]
     },
     "execution_count": 37,
     "metadata": {},
     "output_type": "execute_result"
    }
   ],
   "source": [
    "irr([-c0, c1, c2])"
   ]
  },
  {
   "cell_type": "code",
   "execution_count": 38,
   "id": "strategic-lotus",
   "metadata": {},
   "outputs": [
    {
     "data": {
      "text/plain": [
       "14000"
      ]
     },
     "execution_count": 38,
     "metadata": {},
     "output_type": "execute_result"
    }
   ],
   "source": [
    "future_value"
   ]
  },
  {
   "cell_type": "code",
   "execution_count": 40,
   "id": "supported-adrian",
   "metadata": {},
   "outputs": [
    {
     "data": {
      "text/plain": [
       "nan"
      ]
     },
     "execution_count": 40,
     "metadata": {},
     "output_type": "execute_result"
    }
   ],
   "source": [
    "irr([-18000]) # 0, -1"
   ]
  },
  {
   "cell_type": "code",
   "execution_count": null,
   "id": "close-shark",
   "metadata": {},
   "outputs": [],
   "source": []
  }
 ],
 "metadata": {
  "kernelspec": {
   "display_name": "Python 3",
   "language": "python",
   "name": "python3"
  },
  "language_info": {
   "codemirror_mode": {
    "name": "ipython",
    "version": 3
   },
   "file_extension": ".py",
   "mimetype": "text/x-python",
   "name": "python",
   "nbconvert_exporter": "python",
   "pygments_lexer": "ipython3",
   "version": "3.8.5"
  }
 },
 "nbformat": 4,
 "nbformat_minor": 5
}
