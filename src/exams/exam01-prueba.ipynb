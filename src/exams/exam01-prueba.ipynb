{
 "cells": [
  {
   "cell_type": "markdown",
   "metadata": {},
   "source": [
    "# Exam01 Coding: Flatten Json\n",
    "\n",
    "\n",
    "Follow the instructions located at the `exam01/README.md` file.\n",
    "\n",
    "Grading:\n",
    "\n",
    "* (3 pts) The python application is correctly configured on the `exam01` folder (e.g., `main.py`, `__main__.py`, `__init__.py`).\n",
    "* (6 pts) Your solution contains a **recursive function** called `flat_dictionary` in the `exam01/utils.py` script. This function should receive a dictionary as an input and return a flat version of the dictionary as the output (see the examples).\n",
    "* (6 pts) There's a `show` command on the `Main` class  (defined on `exam01/main.py`) that allows you to display the dictionary in the terminal. It should have the following arguments:\n",
    "    * `filename`: the name of the file (e.g., `ex-1.json`, `ex-2.json`, `ex-3.json`, `ex-4.json`, `ex-5.json`)\n",
    "\n",
    "```commandline\n",
    "$ python -m exam01 show --filename ex-1.json\n",
    "```\n",
    "\n",
    "* (25 pts) Theres a `flatten` command that shows the flat version of the json file. Consider the following:\n",
    "    * This command also has the `filename` argument.\n",
    "    * This command should use the `flat_dictionary` function.\n",
    "    * Should be defined as a method licated on the `Main` class (defined on `exam01/main.py`).\n",
    "    * 4 points per tests (5 tests) if the output is correct.\n",
    "    * 5 points for correct execution of secret tests.\n"
   ]
  },
  {
   "cell_type": "code",
   "execution_count": 1,
   "metadata": {},
   "outputs": [],
   "source": [
    "import os\n",
    "import json\n",
    "\n",
    "\n",
    "from exam01.utils import flat_dictionary, display, get_dictionary"
   ]
  },
  {
   "cell_type": "code",
   "execution_count": 4,
   "metadata": {},
   "outputs": [],
   "source": [
    "def show(filename: str):\n",
    "    return display(get_dictionary(filename))"
   ]
  },
  {
   "cell_type": "code",
   "execution_count": 5,
   "metadata": {},
   "outputs": [
    {
     "name": "stdout",
     "output_type": "stream",
     "text": [
      "{\n",
      "    \"a\": 1,\n",
      "    \"b\": 2,\n",
      "    \"c\": [\n",
      "        3,\n",
      "        4,\n",
      "        5\n",
      "    ]\n",
      "}\n"
     ]
    }
   ],
   "source": [
    "show(\"ex-3.json\")"
   ]
  },
  {
   "cell_type": "code",
   "execution_count": 26,
   "metadata": {},
   "outputs": [],
   "source": [
    "\n",
    "def flatten (filename:str):\n",
    "    return display(flat_dictionary(get_dictionary(filename)))\n"
   ]
  },
  {
   "cell_type": "code",
   "execution_count": 27,
   "metadata": {},
   "outputs": [
    {
     "name": "stdout",
     "output_type": "stream",
     "text": [
      "{\n",
      "    \"a\": 1,\n",
      "    \"b\": 2,\n",
      "    \"c.d\": 5,\n",
      "    \"c.e\": 6,\n",
      "    \"f.g\": 7,\n",
      "    \"f.h.i.j\": 8\n",
      "}\n"
     ]
    }
   ],
   "source": [
    "flatten(\"ex-2.json\")"
   ]
  },
  {
   "cell_type": "markdown",
   "metadata": {},
   "source": [
    "## EXAMPLES\n",
    "\n",
    "Given a flat dictionary, your solution should return the exact same dictionary."
   ]
  },
  {
   "cell_type": "code",
   "execution_count": 6,
   "metadata": {},
   "outputs": [
    {
     "name": "stdout",
     "output_type": "stream",
     "text": [
      "{\n",
      "    \"a\": 1,\n",
      "    \"b\": 2,\n",
      "    \"c\": 3\n",
      "}\n"
     ]
    }
   ],
   "source": [
    "example_flat_dictionary = {\n",
    "    \"a\": 1,\n",
    "    \"b\": 2,\n",
    "    \"c\": 3\n",
    "}\n",
    "\n",
    "display(example_flat_dictionary)"
   ]
  },
  {
   "cell_type": "code",
   "execution_count": 7,
   "metadata": {},
   "outputs": [
    {
     "name": "stdout",
     "output_type": "stream",
     "text": [
      "{\n",
      "    \"a\": 1,\n",
      "    \"b\": 2,\n",
      "    \"c\": 3\n",
      "}\n"
     ]
    }
   ],
   "source": [
    "res = flat_dictionary(example_flat_dictionary)\n",
    "display(res)"
   ]
  },
  {
   "cell_type": "markdown",
   "metadata": {},
   "source": [
    "You can have multiple nested dictionaries:"
   ]
  },
  {
   "cell_type": "code",
   "execution_count": 8,
   "metadata": {},
   "outputs": [
    {
     "name": "stdout",
     "output_type": "stream",
     "text": [
      "{\n",
      "    \"a\": {\n",
      "        \"b\": 1,\n",
      "        \"c\": 2\n",
      "    },\n",
      "    \"d\": {\n",
      "        \"e\": 3,\n",
      "        \"f\": 4\n",
      "    }\n",
      "}\n",
      "{\n",
      "    \"a.b\": 1,\n",
      "    \"a.c\": 2,\n",
      "    \"d.e\": 3,\n",
      "    \"d.f\": 4\n",
      "}\n"
     ]
    }
   ],
   "source": [
    "example_input_with_nested_dictionaries = {\n",
    "    \"a\": {\n",
    "      \"b\": 1,\n",
    "      \"c\": 2\n",
    "    },\n",
    "    \"d\": {\n",
    "      \"e\": 3,\n",
    "      \"f\": 4\n",
    "    }\n",
    "}\n",
    "\n",
    "res = flat_dictionary(example_input_with_nested_dictionaries)\n",
    "\n",
    "display(example_input_with_nested_dictionaries)\n",
    "display(res)"
   ]
  },
  {
   "cell_type": "markdown",
   "metadata": {},
   "source": [
    "Consider that you should also flatten lists! In this case, you should add the index of each element into the dictionary key."
   ]
  },
  {
   "cell_type": "code",
   "execution_count": 9,
   "metadata": {},
   "outputs": [
    {
     "name": "stdout",
     "output_type": "stream",
     "text": [
      "{\n",
      "    \"a\": [\n",
      "        \"b\",\n",
      "        \"c\",\n",
      "        \"d\"\n",
      "    ]\n",
      "}\n",
      "{\n",
      "    \"a.0\": [\n",
      "        \"b\",\n",
      "        \"c\",\n",
      "        \"d\"\n",
      "    ],\n",
      "    \"a.1\": [\n",
      "        \"b\",\n",
      "        \"c\",\n",
      "        \"d\"\n",
      "    ],\n",
      "    \"a.2\": [\n",
      "        \"b\",\n",
      "        \"c\",\n",
      "        \"d\"\n",
      "    ]\n",
      "}\n"
     ]
    }
   ],
   "source": [
    "example_input_with_lists = {\n",
    "  \"a\": [\"b\", \"c\", \"d\"]\n",
    "}\n",
    "\n",
    "res = flat_dictionary(example_input_with_lists)\n",
    "\n",
    "display(example_input_with_lists)\n",
    "display(res)"
   ]
  },
  {
   "cell_type": "markdown",
   "metadata": {},
   "source": [
    "## EX-1\n",
    "\n",
    "Your solution should be able to flatten a dictionary that contains another dictionary (e.g., dictionaries with dictionaries)\n",
    "\n",
    "* (2 pts) Your solution works using the `flat_dictionary` function.\n",
    "* (2 pts) Your solution works in the commandline.\n",
    "\n",
    "\n",
    "```commandline\n",
    "$ python -m exam01 flatten --filename ex-1.json\n",
    "```"
   ]
  },
  {
   "cell_type": "code",
   "execution_count": 10,
   "metadata": {},
   "outputs": [
    {
     "name": "stdout",
     "output_type": "stream",
     "text": [
      "{\n",
      "    \"a\": 1,\n",
      "    \"b\": 2,\n",
      "    \"c\": {\n",
      "        \"d\": 5,\n",
      "        \"e\": 6\n",
      "    }\n",
      "}\n"
     ]
    }
   ],
   "source": [
    "input_test_1 = {\n",
    "    \"a\": 1,\n",
    "    \"b\": 2,\n",
    "    \"c\": {\n",
    "        \"d\": 5,\n",
    "        \"e\": 6\n",
    "    }\n",
    "}\n",
    "\n",
    "display(input_test_1)"
   ]
  },
  {
   "cell_type": "code",
   "execution_count": 11,
   "metadata": {},
   "outputs": [
    {
     "name": "stdout",
     "output_type": "stream",
     "text": [
      "{\n",
      "    \"a\": 1,\n",
      "    \"b\": 2,\n",
      "    \"c.d\": 5,\n",
      "    \"c.e\": 6\n",
      "}\n"
     ]
    }
   ],
   "source": [
    "res = flat_dictionary(input_test_1)\n",
    "display(res)"
   ]
  },
  {
   "cell_type": "markdown",
   "metadata": {},
   "source": [
    "## EX-2\n",
    "\n",
    "Consider that the dictionary can contain an arbitrary number of nested levels.\n",
    "\n",
    "* (2 pts) Your solution works using the `flat_dictionary` function (see test in notebook).\n",
    "* (2 pts) Your solution works in the commandline.\n",
    "\n",
    "```commandline\n",
    "$ python -m exam01 flatten --filename ex-2.json\n",
    "```"
   ]
  },
  {
   "cell_type": "code",
   "execution_count": null,
   "metadata": {
    "scrolled": true
   },
   "outputs": [],
   "source": [
    "input_test_2 = {\n",
    "    \"a\": 1,\n",
    "    \"b\": 2,\n",
    "    \"c\": {\n",
    "        \"d\": 5,\n",
    "        \"e\": 6\n",
    "    },\n",
    "    \"f\": {\n",
    "        \"g\": 7,\n",
    "        \"h\": {\n",
    "            \"i\": {\n",
    "                \"j\": 8\n",
    "            }\n",
    "        }\n",
    "    }\n",
    "}\n",
    "\n",
    "\n",
    "display(input_test_2)"
   ]
  },
  {
   "cell_type": "code",
   "execution_count": null,
   "metadata": {},
   "outputs": [],
   "source": [
    "res = flat_dictionary(input_test_2)\n",
    "display(res)"
   ]
  },
  {
   "cell_type": "markdown",
   "metadata": {},
   "source": [
    "## EX-3\n",
    "\n",
    "If the dictionary contains a list with values, the flat version should use the \"index\" as a key.\n",
    "\n",
    "* (2 pts) Your solution works using the `flat_dictionary` function (see test in notebook).\n",
    "* (2 pts) Your solution works in the commandline.\n",
    "\n",
    "```commandline\n",
    "$ python -m exam01 flatten --filename ex-3.json\n",
    "```"
   ]
  },
  {
   "cell_type": "code",
   "execution_count": null,
   "metadata": {},
   "outputs": [],
   "source": [
    "input_test_3 = {\n",
    "    \"a\": 1,\n",
    "    \"b\": 2,\n",
    "    \"c\": [\n",
    "        3,\n",
    "        4,\n",
    "        5\n",
    "    ]\n",
    "}\n",
    "\n",
    "display(input_test_3)"
   ]
  },
  {
   "cell_type": "code",
   "execution_count": null,
   "metadata": {},
   "outputs": [],
   "source": [
    "res = flat_dictionary(input_test_3)\n",
    "display(res)"
   ]
  },
  {
   "cell_type": "markdown",
   "metadata": {},
   "source": [
    "## EX-4\n",
    "\n",
    "Note that a list can contain more dictionaries and/or more lists. Everything should be flatten out in the final result.\n",
    "\n",
    "* (2 pts) Your solution works using the `flat_dictionary` function (see test in notebook).\n",
    "* (2 pts) Your solution works in the commandline.\n",
    "\n",
    "```commandline\n",
    "$ python -m exam01 flatten --filename ex-4.json\n",
    "```"
   ]
  },
  {
   "cell_type": "code",
   "execution_count": null,
   "metadata": {},
   "outputs": [],
   "source": [
    "input_test_4 = {\n",
    "    \"a\": 1,\n",
    "    \"b\": [\n",
    "        {\n",
    "            \"c\": 2\n",
    "        },\n",
    "        {\n",
    "            \"d\": 3,\n",
    "            \"e\": {\n",
    "                \"f\": 4,\n",
    "                \"g\": 5\n",
    "            }\n",
    "        }\n",
    "    ]\n",
    "}\n",
    "\n",
    "display(input_test_4)"
   ]
  },
  {
   "cell_type": "code",
   "execution_count": null,
   "metadata": {},
   "outputs": [],
   "source": [
    "res = flat_dictionary(input_test_4)\n",
    "display(res)"
   ]
  },
  {
   "cell_type": "markdown",
   "metadata": {},
   "source": [
    "## EX-5\n",
    "\n",
    "* (2 pts) Your solution works using the `flat_dictionary` function (see test in notebook).\n",
    "* (2 pts) Your solution works in the commandline.\n",
    "\n",
    "```commandline\n",
    "$ python -m exam01 flatten --filename ex-5.json\n",
    "```"
   ]
  },
  {
   "cell_type": "code",
   "execution_count": null,
   "metadata": {},
   "outputs": [],
   "source": [
    "input_test_5 = {\n",
    "    \"a\": 1,\n",
    "    \"b\": [\n",
    "        {\n",
    "            \"c\": 2\n",
    "        },\n",
    "        {\n",
    "            \"d\": 3,\n",
    "            \"e\": [\n",
    "                4,\n",
    "                5,\n",
    "                {\n",
    "                    \"f\": {\n",
    "                        \"g\": 6\n",
    "                    }\n",
    "                }\n",
    "            ]\n",
    "        }\n",
    "    ]\n",
    "}"
   ]
  },
  {
   "cell_type": "code",
   "execution_count": null,
   "metadata": {},
   "outputs": [],
   "source": [
    "res = flat_dictionary(input_test_5)\n",
    "display(res)"
   ]
  },
  {
   "cell_type": "code",
   "execution_count": null,
   "metadata": {},
   "outputs": [],
   "source": []
  },
  {
   "cell_type": "code",
   "execution_count": null,
   "metadata": {},
   "outputs": [],
   "source": []
  },
  {
   "cell_type": "code",
   "execution_count": null,
   "metadata": {},
   "outputs": [],
   "source": []
  },
  {
   "cell_type": "code",
   "execution_count": null,
   "metadata": {},
   "outputs": [],
   "source": []
  }
 ],
 "metadata": {
  "kernelspec": {
   "display_name": "Python 3",
   "language": "python",
   "name": "python3"
  },
  "language_info": {
   "codemirror_mode": {
    "name": "ipython",
    "version": 3
   },
   "file_extension": ".py",
   "mimetype": "text/x-python",
   "name": "python",
   "nbconvert_exporter": "python",
   "pygments_lexer": "ipython3",
   "version": "3.8.5"
  }
 },
 "nbformat": 4,
 "nbformat_minor": 5
}
